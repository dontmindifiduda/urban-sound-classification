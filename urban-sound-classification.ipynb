{
 "cells": [
  {
   "cell_type": "markdown",
   "metadata": {
    "colab_type": "text",
    "id": "-4ZAUODTrQEG"
   },
   "source": [
    "## Set Home Directory\n",
    "\n",
    "Modify the home_directory as needed. If you are running this notebook using Google Colab, a code block for mounting to your Google Drive is included below."
   ]
  },
  {
   "cell_type": "code",
   "execution_count": 1,
   "metadata": {
    "colab": {
     "base_uri": "https://localhost:8080/",
     "height": 122
    },
    "colab_type": "code",
    "executionInfo": {
     "elapsed": 23653,
     "status": "ok",
     "timestamp": 1599562661179,
     "user": {
      "displayName": "Scott Duda",
      "photoUrl": "https://lh3.googleusercontent.com/a-/AOh14GjRn5vlsP2VP-TM4jPt1ZKBGq1MJCJ2yl5F4D0H=s64",
      "userId": "07461941358185247463"
     },
     "user_tz": 240
    },
    "id": "Qv_nk3aZJ1Xc",
    "outputId": "1c819d00-cbe5-43dd-c7b1-73bbc0be1d6e"
   },
   "outputs": [],
   "source": [
    "home_directory = ''\n",
    "# home_directory = 'drive/My Drive/Colab Notebooks/urban-sound-classification/'\n",
    "\n",
    "# from google.colab import drive\n",
    "# drive.mount('/content/drive')"
   ]
  },
  {
   "cell_type": "code",
   "execution_count": 5,
   "metadata": {
    "colab": {
     "base_uri": "https://localhost:8080/",
     "height": 51
    },
    "colab_type": "code",
    "executionInfo": {
     "elapsed": 6379,
     "status": "ok",
     "timestamp": 1599562672772,
     "user": {
      "displayName": "Scott Duda",
      "photoUrl": "https://lh3.googleusercontent.com/a-/AOh14GjRn5vlsP2VP-TM4jPt1ZKBGq1MJCJ2yl5F4D0H=s64",
      "userId": "07461941358185247463"
     },
     "user_tz": 240
    },
    "id": "UH4d8_ebJp3B",
    "outputId": "fe2a071c-eb47-40cf-c7e1-9cc57f1b9add"
   },
   "outputs": [
    {
     "name": "stderr",
     "output_type": "stream",
     "text": [
      "/usr/local/lib/python3.6/dist-packages/statsmodels/tools/_testing.py:19: FutureWarning: pandas.util.testing is deprecated. Use the functions in the public API at pandas.testing instead.\n",
      "  import pandas.util.testing as tm\n"
     ]
    }
   ],
   "source": [
    "import numpy as np\n",
    "import pandas as pd\n",
    "\n",
    "import matplotlib.pyplot as plt\n",
    "import seaborn as sns\n",
    "\n",
    "import librosa\n",
    "import librosa.display\n",
    "\n",
    "import os\n",
    "import time\n",
    "import random\n",
    "\n",
    "from PIL import Image\n",
    "\n",
    "from sklearn.metrics import accuracy_score, f1_score, precision_score, recall_score, classification_report\n",
    "\n",
    "import torch\n",
    "import torch.nn as nn\n",
    "import torch.nn.functional as F\n",
    "from fastprogress import master_bar, progress_bar\n",
    "from torch.optim import Adam\n",
    "from torch.optim.lr_scheduler import CosineAnnealingLR\n",
    "from torch.utils.data import Dataset, DataLoader\n",
    "from torchvision.transforms import transforms"
   ]
  },
  {
   "cell_type": "code",
   "execution_count": 6,
   "metadata": {
    "colab": {},
    "colab_type": "code",
    "executionInfo": {
     "elapsed": 496,
     "status": "ok",
     "timestamp": 1599562674005,
     "user": {
      "displayName": "Scott Duda",
      "photoUrl": "https://lh3.googleusercontent.com/a-/AOh14GjRn5vlsP2VP-TM4jPt1ZKBGq1MJCJ2yl5F4D0H=s64",
      "userId": "07461941358185247463"
     },
     "user_tz": 240
    },
    "id": "GL3T88X5bbLL"
   },
   "outputs": [],
   "source": [
    "USE_GPU = torch.cuda.is_available()"
   ]
  },
  {
   "cell_type": "code",
   "execution_count": 7,
   "metadata": {
    "colab": {},
    "colab_type": "code",
    "executionInfo": {
     "elapsed": 2148,
     "status": "ok",
     "timestamp": 1599562676753,
     "user": {
      "displayName": "Scott Duda",
      "photoUrl": "https://lh3.googleusercontent.com/a-/AOh14GjRn5vlsP2VP-TM4jPt1ZKBGq1MJCJ2yl5F4D0H=s64",
      "userId": "07461941358185247463"
     },
     "user_tz": 240
    },
    "id": "2PnZGtwjJp3F"
   },
   "outputs": [],
   "source": [
    "metadata = pd.read_csv(home_directory + 'UrbanSound8K/metadata/UrbanSound8K.csv') "
   ]
  },
  {
   "cell_type": "code",
   "execution_count": 5,
   "metadata": {
    "colab": {
     "base_uri": "https://localhost:8080/",
     "height": 204
    },
    "colab_type": "code",
    "executionInfo": {
     "elapsed": 5655,
     "status": "ok",
     "timestamp": 1599534565955,
     "user": {
      "displayName": "Scott Duda",
      "photoUrl": "https://lh3.googleusercontent.com/a-/AOh14GjRn5vlsP2VP-TM4jPt1ZKBGq1MJCJ2yl5F4D0H=s64",
      "userId": "07461941358185247463"
     },
     "user_tz": 240
    },
    "id": "ualOUXsxJp3H",
    "outputId": "726eccc9-33cd-4838-9c2a-d46845a11e83"
   },
   "outputs": [
    {
     "data": {
      "text/html": [
       "<div>\n",
       "<style scoped>\n",
       "    .dataframe tbody tr th:only-of-type {\n",
       "        vertical-align: middle;\n",
       "    }\n",
       "\n",
       "    .dataframe tbody tr th {\n",
       "        vertical-align: top;\n",
       "    }\n",
       "\n",
       "    .dataframe thead th {\n",
       "        text-align: right;\n",
       "    }\n",
       "</style>\n",
       "<table border=\"1\" class=\"dataframe\">\n",
       "  <thead>\n",
       "    <tr style=\"text-align: right;\">\n",
       "      <th></th>\n",
       "      <th>slice_file_name</th>\n",
       "      <th>fsID</th>\n",
       "      <th>start</th>\n",
       "      <th>end</th>\n",
       "      <th>salience</th>\n",
       "      <th>fold</th>\n",
       "      <th>classID</th>\n",
       "      <th>class</th>\n",
       "    </tr>\n",
       "  </thead>\n",
       "  <tbody>\n",
       "    <tr>\n",
       "      <th>0</th>\n",
       "      <td>100032-3-0-0.wav</td>\n",
       "      <td>100032</td>\n",
       "      <td>0.0</td>\n",
       "      <td>0.317551</td>\n",
       "      <td>1</td>\n",
       "      <td>5</td>\n",
       "      <td>3</td>\n",
       "      <td>dog_bark</td>\n",
       "    </tr>\n",
       "    <tr>\n",
       "      <th>1</th>\n",
       "      <td>100263-2-0-117.wav</td>\n",
       "      <td>100263</td>\n",
       "      <td>58.5</td>\n",
       "      <td>62.500000</td>\n",
       "      <td>1</td>\n",
       "      <td>5</td>\n",
       "      <td>2</td>\n",
       "      <td>children_playing</td>\n",
       "    </tr>\n",
       "    <tr>\n",
       "      <th>2</th>\n",
       "      <td>100263-2-0-121.wav</td>\n",
       "      <td>100263</td>\n",
       "      <td>60.5</td>\n",
       "      <td>64.500000</td>\n",
       "      <td>1</td>\n",
       "      <td>5</td>\n",
       "      <td>2</td>\n",
       "      <td>children_playing</td>\n",
       "    </tr>\n",
       "    <tr>\n",
       "      <th>3</th>\n",
       "      <td>100263-2-0-126.wav</td>\n",
       "      <td>100263</td>\n",
       "      <td>63.0</td>\n",
       "      <td>67.000000</td>\n",
       "      <td>1</td>\n",
       "      <td>5</td>\n",
       "      <td>2</td>\n",
       "      <td>children_playing</td>\n",
       "    </tr>\n",
       "    <tr>\n",
       "      <th>4</th>\n",
       "      <td>100263-2-0-137.wav</td>\n",
       "      <td>100263</td>\n",
       "      <td>68.5</td>\n",
       "      <td>72.500000</td>\n",
       "      <td>1</td>\n",
       "      <td>5</td>\n",
       "      <td>2</td>\n",
       "      <td>children_playing</td>\n",
       "    </tr>\n",
       "  </tbody>\n",
       "</table>\n",
       "</div>"
      ],
      "text/plain": [
       "      slice_file_name    fsID  start  ...  fold  classID             class\n",
       "0    100032-3-0-0.wav  100032    0.0  ...     5        3          dog_bark\n",
       "1  100263-2-0-117.wav  100263   58.5  ...     5        2  children_playing\n",
       "2  100263-2-0-121.wav  100263   60.5  ...     5        2  children_playing\n",
       "3  100263-2-0-126.wav  100263   63.0  ...     5        2  children_playing\n",
       "4  100263-2-0-137.wav  100263   68.5  ...     5        2  children_playing\n",
       "\n",
       "[5 rows x 8 columns]"
      ]
     },
     "execution_count": 5,
     "metadata": {
      "tags": []
     },
     "output_type": "execute_result"
    }
   ],
   "source": [
    "metadata.head()"
   ]
  },
  {
   "cell_type": "code",
   "execution_count": 8,
   "metadata": {
    "colab": {
     "base_uri": "https://localhost:8080/",
     "height": 170
    },
    "colab_type": "code",
    "executionInfo": {
     "elapsed": 426,
     "status": "ok",
     "timestamp": 1599562680312,
     "user": {
      "displayName": "Scott Duda",
      "photoUrl": "https://lh3.googleusercontent.com/a-/AOh14GjRn5vlsP2VP-TM4jPt1ZKBGq1MJCJ2yl5F4D0H=s64",
      "userId": "07461941358185247463"
     },
     "user_tz": 240
    },
    "id": "CRtBgr2vJp3K",
    "outputId": "a88b0b38-dc60-4a20-83ce-9a107c69eaa1"
   },
   "outputs": [
    {
     "data": {
      "text/plain": [
       "count    8732.000000\n",
       "mean        3.607904\n",
       "std         0.973570\n",
       "min         0.054517\n",
       "25%         4.000000\n",
       "50%         4.000000\n",
       "75%         4.000000\n",
       "max         4.000000\n",
       "Name: duration, dtype: float64"
      ]
     },
     "execution_count": 8,
     "metadata": {
      "tags": []
     },
     "output_type": "execute_result"
    }
   ],
   "source": [
    "# add duration feature and evaluate file durations\n",
    "\n",
    "metadata['duration'] = metadata['end'] - metadata['start']\n",
    "metadata['duration'].describe()"
   ]
  },
  {
   "cell_type": "markdown",
   "metadata": {
    "colab_type": "text",
    "id": "Y5G2uaeOJp3M"
   },
   "source": [
    "## Listen to Audio From Test File"
   ]
  },
  {
   "cell_type": "code",
   "execution_count": 10,
   "metadata": {
    "colab": {},
    "colab_type": "code",
    "executionInfo": {
     "elapsed": 300,
     "status": "ok",
     "timestamp": 1599534588507,
     "user": {
      "displayName": "Scott Duda",
      "photoUrl": "https://lh3.googleusercontent.com/a-/AOh14GjRn5vlsP2VP-TM4jPt1ZKBGq1MJCJ2yl5F4D0H=s64",
      "userId": "07461941358185247463"
     },
     "user_tz": 240
    },
    "id": "ntZBFYj3Jp3N"
   },
   "outputs": [],
   "source": [
    "test_file = home_directory + 'UrbanSound8K/audio/fold5/100263-2-0-117.wav'\n",
    "\n",
    "y, sr = librosa.load(test_file)\n",
    "\n",
    "print('Sample rate: ' + str(sr))"
   ]
  },
  {
   "cell_type": "code",
   "execution_count": null,
   "metadata": {
    "colab": {},
    "colab_type": "code",
    "executionInfo": {
     "elapsed": 2487,
     "status": "aborted",
     "timestamp": 1599534567769,
     "user": {
      "displayName": "Scott Duda",
      "photoUrl": "https://lh3.googleusercontent.com/a-/AOh14GjRn5vlsP2VP-TM4jPt1ZKBGq1MJCJ2yl5F4D0H=s64",
      "userId": "07461941358185247463"
     },
     "user_tz": 240
    },
    "id": "Yic2xZmzJp3P"
   },
   "outputs": [],
   "source": [
    "import IPython.display as ipd\n",
    "ipd.Audio(test_file)"
   ]
  },
  {
   "cell_type": "markdown",
   "metadata": {
    "colab_type": "text",
    "id": "Hqni6_ENJp3R"
   },
   "source": [
    "### Sample Waveform"
   ]
  },
  {
   "cell_type": "code",
   "execution_count": null,
   "metadata": {
    "colab": {},
    "colab_type": "code",
    "executionInfo": {
     "elapsed": 1671,
     "status": "aborted",
     "timestamp": 1599534567771,
     "user": {
      "displayName": "Scott Duda",
      "photoUrl": "https://lh3.googleusercontent.com/a-/AOh14GjRn5vlsP2VP-TM4jPt1ZKBGq1MJCJ2yl5F4D0H=s64",
      "userId": "07461941358185247463"
     },
     "user_tz": 240
    },
    "id": "hju_nb45Jp3S"
   },
   "outputs": [],
   "source": [
    "time = np.arange(0, len(y)) / sr\n",
    "\n",
    "plt.figure(figsize=(18, 6))\n",
    "plt.plot(time[2000:2110], y[2000:2110])\n",
    "plt.ylabel('amplitude')\n",
    "plt.xlabel('time (s)')\n",
    "plt.savefig(home_directory + 'images/sample_wave.png')"
   ]
  },
  {
   "cell_type": "markdown",
   "metadata": {
    "colab_type": "text",
    "id": "eAeEI1G1Jp3U"
   },
   "source": [
    "## Spectrograms\n",
    "\n",
    "### Linear Spectrogram"
   ]
  },
  {
   "cell_type": "code",
   "execution_count": null,
   "metadata": {
    "colab": {},
    "colab_type": "code",
    "executionInfo": {
     "elapsed": 669,
     "status": "aborted",
     "timestamp": 1599534567771,
     "user": {
      "displayName": "Scott Duda",
      "photoUrl": "https://lh3.googleusercontent.com/a-/AOh14GjRn5vlsP2VP-TM4jPt1ZKBGq1MJCJ2yl5F4D0H=s64",
      "userId": "07461941358185247463"
     },
     "user_tz": 240
    },
    "id": "Iww6e-MbJp3V"
   },
   "outputs": [],
   "source": [
    "Y = librosa.stft(y)\n",
    "Ydb = librosa.amplitude_to_db(np.abs(Y), ref=np.max)\n",
    "plt.figure(figsize=(18, 6))\n",
    "librosa.display.specshow(Ydb, sr=sr, x_axis='time', y_axis='linear')\n",
    "plt.colorbar()\n",
    "plt.savefig(home_directory + 'images/example_spectrogram.png')"
   ]
  },
  {
   "cell_type": "markdown",
   "metadata": {
    "colab_type": "text",
    "id": "bVaJo8epJp3X"
   },
   "source": [
    "### Log Spectrogram"
   ]
  },
  {
   "cell_type": "code",
   "execution_count": 11,
   "metadata": {
    "colab": {},
    "colab_type": "code",
    "executionInfo": {
     "elapsed": 297,
     "status": "ok",
     "timestamp": 1599534603404,
     "user": {
      "displayName": "Scott Duda",
      "photoUrl": "https://lh3.googleusercontent.com/a-/AOh14GjRn5vlsP2VP-TM4jPt1ZKBGq1MJCJ2yl5F4D0H=s64",
      "userId": "07461941358185247463"
     },
     "user_tz": 240
    },
    "id": "j5Q-_RJ0Jp3X"
   },
   "outputs": [],
   "source": [
    "plt.figure(figsize=(18, 6))\n",
    "librosa.display.specshow(Ydb, sr=sr, x_axis='time', y_axis='log')\n",
    "plt.colorbar()\n",
    "plt.savefig(home_directory + 'images/example_log_spectrogram.png')"
   ]
  },
  {
   "cell_type": "markdown",
   "metadata": {
    "colab_type": "text",
    "id": "CeQZ4KLaJp3d"
   },
   "source": [
    "### Mel Spectrogram"
   ]
  },
  {
   "cell_type": "code",
   "execution_count": 12,
   "metadata": {
    "colab": {},
    "colab_type": "code",
    "executionInfo": {
     "elapsed": 302,
     "status": "ok",
     "timestamp": 1599534612457,
     "user": {
      "displayName": "Scott Duda",
      "photoUrl": "https://lh3.googleusercontent.com/a-/AOh14GjRn5vlsP2VP-TM4jPt1ZKBGq1MJCJ2yl5F4D0H=s64",
      "userId": "07461941358185247463"
     },
     "user_tz": 240
    },
    "id": "rIyVyb_BJp3f"
   },
   "outputs": [],
   "source": [
    "S = librosa.feature.melspectrogram(y, sr=sr, n_mels=128, fmax=8000)\n",
    "Sdb = librosa.power_to_db(S, ref=np.max)\n",
    "plt.figure(figsize=(18, 6))\n",
    "librosa.display.specshow(Sdb, sr=sr, x_axis='time', y_axis='mel')\n",
    "plt.colorbar()\n",
    "plt.savefig(home_directory + 'images/example_mel_spectrogram.png')"
   ]
  },
  {
   "cell_type": "markdown",
   "metadata": {
    "colab_type": "text",
    "id": "4wZBKctcJp3i"
   },
   "source": [
    "## File Processing\n",
    "\n",
    "### Create Directories"
   ]
  },
  {
   "cell_type": "code",
   "execution_count": 18,
   "metadata": {
    "colab": {},
    "colab_type": "code",
    "executionInfo": {
     "elapsed": 391,
     "status": "ok",
     "timestamp": 1599562717896,
     "user": {
      "displayName": "Scott Duda",
      "photoUrl": "https://lh3.googleusercontent.com/a-/AOh14GjRn5vlsP2VP-TM4jPt1ZKBGq1MJCJ2yl5F4D0H=s64",
      "userId": "07461941358185247463"
     },
     "user_tz": 240
    },
    "id": "tg2VDRplLXfq"
   },
   "outputs": [],
   "source": [
    "numpy_save_directory = home_directory + 'UrbanSound8K/processed_np/' \n",
    "sub_dirs = ['fold' + str(x) for x in np.arange(1,11)]"
   ]
  },
  {
   "cell_type": "code",
   "execution_count": 19,
   "metadata": {
    "colab": {},
    "colab_type": "code",
    "executionInfo": {
     "elapsed": 660,
     "status": "ok",
     "timestamp": 1599562718298,
     "user": {
      "displayName": "Scott Duda",
      "photoUrl": "https://lh3.googleusercontent.com/a-/AOh14GjRn5vlsP2VP-TM4jPt1ZKBGq1MJCJ2yl5F4D0H=s64",
      "userId": "07461941358185247463"
     },
     "user_tz": 240
    },
    "id": "cmLeyQkhJp3i"
   },
   "outputs": [],
   "source": [
    "parent_directory = home_directory + 'UrbanSound8K/audio/'\n",
    "numpy_save_directory = home_directory + 'UrbanSound8K/processed_np/'\n",
    "model_save_directory = home_directory + 'models/'\n",
    "\n",
    "if not os.path.exists(numpy_save_directory):\n",
    "    os.makedirs(numpy_save_directory)\n",
    "    \n",
    "sub_dirs = ['fold' + str(x) for x in np.arange(1,11)]\n",
    "\n",
    "for sub_dir in sub_dirs:\n",
    "    if not os.path.exists(numpy_save_directory + sub_dir):\n",
    "        os.makedirs(numpy_save_directory + sub_dir)\n",
    "        \n",
    "if not os.path.exists(model_save_directory):\n",
    "    os.makedirs(model_save_directory)"
   ]
  },
  {
   "cell_type": "markdown",
   "metadata": {
    "colab_type": "text",
    "id": "oPxbtXGeJp3m"
   },
   "source": [
    "### Define Mel Spectrogram Parameters"
   ]
  },
  {
   "cell_type": "code",
   "execution_count": 10,
   "metadata": {
    "colab": {},
    "colab_type": "code",
    "executionInfo": {
     "elapsed": 458,
     "status": "ok",
     "timestamp": 1599562691879,
     "user": {
      "displayName": "Scott Duda",
      "photoUrl": "https://lh3.googleusercontent.com/a-/AOh14GjRn5vlsP2VP-TM4jPt1ZKBGq1MJCJ2yl5F4D0H=s64",
      "userId": "07461941358185247463"
     },
     "user_tz": 240
    },
    "id": "YXVQcjMYJp3m"
   },
   "outputs": [],
   "source": [
    "melspec_params = {\n",
    "    'n_mels': 128,\n",
    "    'duration': 4*22050,\n",
    "    'hop_length': 347*4,\n",
    "    'n_fft': 128*20,\n",
    "    'fmin': 20\n",
    "}"
   ]
  },
  {
   "cell_type": "markdown",
   "metadata": {
    "colab_type": "text",
    "id": "ks8Ll4AZJp3o"
   },
   "source": [
    "### Define Helper Functions"
   ]
  },
  {
   "cell_type": "code",
   "execution_count": 9,
   "metadata": {
    "colab": {},
    "colab_type": "code",
    "executionInfo": {
     "elapsed": 454,
     "status": "ok",
     "timestamp": 1599562688910,
     "user": {
      "displayName": "Scott Duda",
      "photoUrl": "https://lh3.googleusercontent.com/a-/AOh14GjRn5vlsP2VP-TM4jPt1ZKBGq1MJCJ2yl5F4D0H=s64",
      "userId": "07461941358185247463"
     },
     "user_tz": 240
    },
    "id": "Ht00qgRQJp3o"
   },
   "outputs": [],
   "source": [
    "def load_audio(params, file_path):\n",
    "    y, sr = librosa.load(parent_directory + sub_dir + '/' + file_list[i])\n",
    "\n",
    "    # clip silence\n",
    "    yt, index = librosa.effects.trim(y, top_db=60)       \n",
    "\n",
    "    # pad to a length of 4s\n",
    "    if len(yt) > params['duration']:\n",
    "        yt = yt[:params['duration']]\n",
    "    else:\n",
    "        padding = params['duration'] - len(yt)\n",
    "        offset = padding // 2\n",
    "        yt = np.pad(yt, (offset, params['duration'] - len(yt) - offset), 'constant')\n",
    "    \n",
    "    return yt, sr\n",
    "\n",
    "def create_melspec(params, audio_data, sampling_rate):\n",
    "    S = librosa.feature.melspectrogram(audio_data, \n",
    "                                       sr=sampling_rate, \n",
    "                                       n_mels=params['n_mels'],\n",
    "                                       hop_length=params['hop_length'],\n",
    "                                       n_fft=params['n_fft'],\n",
    "                                       fmin=params['fmin'],\n",
    "                                       fmax=(sampling_rate // 2))\n",
    "    Sb = librosa.power_to_db(S, ref=np.max)\n",
    "    Sb = Sb.astype(np.float32)\n",
    "    \n",
    "    return Sb\n",
    "        \n",
    "def mono_to_color(X, mean=None, std=None, norm_max=None, norm_min=None, eps=1e-6):\n",
    "    X = np.stack([X, X, X], axis=-1)\n",
    "    mean = mean or X.mean()\n",
    "    X = X - mean\n",
    "    std = std or X.std()\n",
    "    Xstd = X / (std + eps)\n",
    "    _min, _max = Xstd.min(), Xstd.max()\n",
    "    norm_max = norm_max or _max\n",
    "    norm_min = norm_min or _min\n",
    "    if (_max - _min) > eps:\n",
    "        V = Xstd\n",
    "        V[V < norm_min] = norm_min\n",
    "        V[V > norm_max] = norm_max\n",
    "        V = 255 * (V - norm_min) / (norm_max - norm_min)\n",
    "        V = V.astype(np.uint8)\n",
    "    else:\n",
    "        V = np.zeros_like(Xstd, dtype=np.uint8)\n",
    "    return V  \n",
    "\n",
    "def display_melspec(params, mels, sampling_rate): \n",
    "    librosa.display.specshow(mels, x_axis='time', y_axis='mel',\n",
    "                             sr=sampling_rate, hop_length=params['hop_length'],\n",
    "                             fmin=params['fmin'], fmax=(sampling_rate // 2))\n",
    "    plt.colorbar()\n",
    "    plt.show()"
   ]
  },
  {
   "cell_type": "markdown",
   "metadata": {
    "colab_type": "text",
    "id": "rVmwUNAQJp3q"
   },
   "source": [
    "### Process WAV Files"
   ]
  },
  {
   "cell_type": "code",
   "execution_count": null,
   "metadata": {
    "colab": {},
    "colab_type": "code",
    "id": "n_AWDFqKJp3r"
   },
   "outputs": [],
   "source": [
    "for sub_dir in sub_dirs:\n",
    "    file_list = os.listdir(parent_directory + sub_dir)\n",
    "    file_list = [x for x in file_list if 'wav' in x]\n",
    "    file_labels = [int(x.split('-')[1]) for x in file_list]\n",
    "    print('processing {}'.format(sub_dir))\n",
    "    \n",
    "    for i in range(0, len(file_list)):\n",
    "        y, sr = load_audio(melspec_params, parent_directory + sub_dir + '/' + file_list[i])\n",
    "        melspec = create_melspec(melspec_params, y, sr)\n",
    "        melspec_color = mono_to_color(melspec)\n",
    "        np.savez(numpy_save_directory + sub_dir + '/' + file_list[i][:-4], melspec_color)"
   ]
  },
  {
   "cell_type": "markdown",
   "metadata": {
    "colab_type": "text",
    "id": "nz8L8vFsJp3t"
   },
   "source": [
    "## Modeling\n",
    "\n",
    "### Create Train and Test Dataset Classes"
   ]
  },
  {
   "cell_type": "code",
   "execution_count": 11,
   "metadata": {
    "colab": {},
    "colab_type": "code",
    "executionInfo": {
     "elapsed": 473,
     "status": "ok",
     "timestamp": 1599562700969,
     "user": {
      "displayName": "Scott Duda",
      "photoUrl": "https://lh3.googleusercontent.com/a-/AOh14GjRn5vlsP2VP-TM4jPt1ZKBGq1MJCJ2yl5F4D0H=s64",
      "userId": "07461941358185247463"
     },
     "user_tz": 240
    },
    "id": "WpRhndZuJp3t"
   },
   "outputs": [],
   "source": [
    "class TrainDataset(Dataset):\n",
    "    def __init__(self, melspecs, labels, transforms):\n",
    "        super().__init__()\n",
    "        self.melspecs = melspecs\n",
    "        self.labels = labels\n",
    "        self.transforms = transforms\n",
    "        \n",
    "    def __len__(self):\n",
    "        return len(self.melspecs)\n",
    "    \n",
    "    def __getitem__(self, idx):\n",
    "        image = Image.fromarray(self.melspecs[idx], mode='RGB')        \n",
    "        image = self.transforms(image).div_(255)       \n",
    "        label = self.labels[idx]\n",
    "        \n",
    "        return image, label"
   ]
  },
  {
   "cell_type": "markdown",
   "metadata": {
    "colab_type": "text",
    "id": "1OtrgIbCJp3x"
   },
   "source": [
    "### Define Model Architecture and Parameters"
   ]
  },
  {
   "cell_type": "code",
   "execution_count": 12,
   "metadata": {
    "colab": {},
    "colab_type": "code",
    "executionInfo": {
     "elapsed": 518,
     "status": "ok",
     "timestamp": 1599562701609,
     "user": {
      "displayName": "Scott Duda",
      "photoUrl": "https://lh3.googleusercontent.com/a-/AOh14GjRn5vlsP2VP-TM4jPt1ZKBGq1MJCJ2yl5F4D0H=s64",
      "userId": "07461941358185247463"
     },
     "user_tz": 240
    },
    "id": "rLxgF7roJp3x"
   },
   "outputs": [],
   "source": [
    "transforms_dict = {\n",
    "    'train': transforms.Compose([\n",
    "        transforms.RandomHorizontalFlip(0.5),\n",
    "        transforms.ToTensor(),\n",
    "    ])\n",
    "}"
   ]
  },
  {
   "cell_type": "code",
   "execution_count": 13,
   "metadata": {
    "colab": {},
    "colab_type": "code",
    "executionInfo": {
     "elapsed": 317,
     "status": "ok",
     "timestamp": 1599562701865,
     "user": {
      "displayName": "Scott Duda",
      "photoUrl": "https://lh3.googleusercontent.com/a-/AOh14GjRn5vlsP2VP-TM4jPt1ZKBGq1MJCJ2yl5F4D0H=s64",
      "userId": "07461941358185247463"
     },
     "user_tz": 240
    },
    "id": "iDnk6A1LJp3z"
   },
   "outputs": [],
   "source": [
    "class ConvBlock(nn.Module):\n",
    "    def __init__(self, in_channels, out_channels):\n",
    "        super().__init__()\n",
    "        \n",
    "        self.conv1 = nn.Sequential(\n",
    "            nn.Conv2d(in_channels, out_channels, 3, 1, 1),\n",
    "            nn.BatchNorm2d(out_channels),\n",
    "            nn.ReLU(),\n",
    "        )\n",
    "        self.conv2 = nn.Sequential(\n",
    "            nn.Conv2d(out_channels, out_channels, 3, 1, 1),\n",
    "            nn.ReLU(),\n",
    "            nn.Dropout(0.4)\n",
    "        )\n",
    "\n",
    "        self._init_weights()\n",
    "        \n",
    "    def _init_weights(self):\n",
    "        for m in self.modules():\n",
    "            if isinstance(m, nn.Conv2d):\n",
    "                nn.init.kaiming_normal_(m.weight)\n",
    "                if m.bias is not None:\n",
    "                    nn.init.zeros_(m.bias)\n",
    "            elif isinstance(m, nn.BatchNorm2d):\n",
    "                nn.init.constant_(m.weight, 1)\n",
    "                nn.init.zeros_(m.bias)\n",
    "        \n",
    "    def forward(self, x):\n",
    "        x = self.conv1(x)\n",
    "        x = self.conv2(x)\n",
    "        x = F.avg_pool2d(x, 2)\n",
    "        return x"
   ]
  },
  {
   "cell_type": "code",
   "execution_count": 14,
   "metadata": {
    "colab": {},
    "colab_type": "code",
    "executionInfo": {
     "elapsed": 315,
     "status": "ok",
     "timestamp": 1599562702115,
     "user": {
      "displayName": "Scott Duda",
      "photoUrl": "https://lh3.googleusercontent.com/a-/AOh14GjRn5vlsP2VP-TM4jPt1ZKBGq1MJCJ2yl5F4D0H=s64",
      "userId": "07461941358185247463"
     },
     "user_tz": 240
    },
    "id": "S7bsn6YDJp30"
   },
   "outputs": [],
   "source": [
    "class Classifier(nn.Module):\n",
    "    def __init__(self, num_classes=10):\n",
    "        super().__init__()\n",
    "        \n",
    "        self.conv = nn.Sequential(\n",
    "            ConvBlock(in_channels=3, out_channels=64),\n",
    "            ConvBlock(in_channels=64, out_channels=128),\n",
    "            ConvBlock(in_channels=128, out_channels=256),\n",
    "            ConvBlock(in_channels=256, out_channels=512),\n",
    "        )\n",
    "        \n",
    "        self.fc = nn.Sequential(\n",
    "            nn.Dropout(0.5),\n",
    "            nn.Linear(512, 128),\n",
    "            nn.PReLU(),\n",
    "            nn.BatchNorm1d(128),\n",
    "            nn.Dropout(0.2),\n",
    "            nn.Linear(128, num_classes),\n",
    "        )\n",
    "\n",
    "    def forward(self, x):\n",
    "        x = self.conv(x)\n",
    "        x = torch.mean(x, dim=3)\n",
    "        x, _ = torch.max(x, dim=2)\n",
    "        x = self.fc(x)\n",
    "        return x"
   ]
  },
  {
   "cell_type": "code",
   "execution_count": 15,
   "metadata": {
    "colab": {},
    "colab_type": "code",
    "executionInfo": {
     "elapsed": 274,
     "status": "ok",
     "timestamp": 1599562702333,
     "user": {
      "displayName": "Scott Duda",
      "photoUrl": "https://lh3.googleusercontent.com/a-/AOh14GjRn5vlsP2VP-TM4jPt1ZKBGq1MJCJ2yl5F4D0H=s64",
      "userId": "07461941358185247463"
     },
     "user_tz": 240
    },
    "id": "e7RrPI1yJp32"
   },
   "outputs": [],
   "source": [
    "model_params = {\n",
    "    'num_epochs': 50, # increase after testing\n",
    "    'batch_size': 64,\n",
    "    'learning_rate': 0.001,\n",
    "    'num_clases': 10, \n",
    "    'eta_min': 1e-5,\n",
    "    't_max': 10\n",
    "}"
   ]
  },
  {
   "cell_type": "markdown",
   "metadata": {
    "colab_type": "text",
    "id": "wlLttfPeJp34"
   },
   "source": [
    "### Set Random Seeds"
   ]
  },
  {
   "cell_type": "code",
   "execution_count": 16,
   "metadata": {
    "colab": {},
    "colab_type": "code",
    "executionInfo": {
     "elapsed": 925,
     "status": "ok",
     "timestamp": 1599562703789,
     "user": {
      "displayName": "Scott Duda",
      "photoUrl": "https://lh3.googleusercontent.com/a-/AOh14GjRn5vlsP2VP-TM4jPt1ZKBGq1MJCJ2yl5F4D0H=s64",
      "userId": "07461941358185247463"
     },
     "user_tz": 240
    },
    "id": "XsQ58ExzJp35"
   },
   "outputs": [],
   "source": [
    "def set_seeds(seed):\n",
    "    random.seed(seed)\n",
    "    os.environ['PYTHONHASHSEED'] = str(seed)\n",
    "    np.random.seed(seed)\n",
    "    torch.manual_seed(seed)\n",
    "    if USE_GPU:\n",
    "        torch.cuda.manual_seed(seed)\n",
    "    torch.backends.cudnn.deterministic = True\n",
    "\n",
    "SEED = 73\n",
    "set_seeds(SEED)"
   ]
  },
  {
   "cell_type": "markdown",
   "metadata": {
    "colab_type": "text",
    "id": "wYW280K1Jp37"
   },
   "source": [
    "### Train Model"
   ]
  },
  {
   "cell_type": "code",
   "execution_count": null,
   "metadata": {
    "colab": {},
    "colab_type": "code",
    "id": "25YexkX1Jp37"
   },
   "outputs": [],
   "source": [
    "oof_labels = []\n",
    "oof_preds = []\n",
    "\n",
    "for sub_dir in sub_dirs:\n",
    "    X_train = []\n",
    "    train_labels = []\n",
    "    X_valid = [] \n",
    "    valid_labels = [] \n",
    "    \n",
    "    for fold in sub_dirs:\n",
    "        file_list = os.listdir(numpy_save_directory + fold)\n",
    "        if fold == sub_dir:\n",
    "            for file_name in file_list:\n",
    "                with np.load(numpy_save_directory + fold + '/' + file_name) as f:\n",
    "                    X_valid.append(f['arr_0'])\n",
    "                valid_labels.append(int(file_name.split('-')[1]))\n",
    "                y_valid = np.zeros((len(valid_labels), 10)).astype(int)\n",
    "                for i, j in enumerate(valid_labels):\n",
    "                    y_valid[i, j] = 1\n",
    "        else:\n",
    "            for file_name in file_list:\n",
    "                with np.load(numpy_save_directory + fold + '/' + file_name) as f:\n",
    "                    X_train.append(f['arr_0'])\n",
    "                train_labels.append(int(file_name.split('-')[1]))\n",
    "                y_train = np.zeros((len(train_labels), 10)).astype(int)\n",
    "                for i, j in enumerate(train_labels):\n",
    "                    y_train[i, j] = 1\n",
    "\n",
    "    train_dataset = TrainDataset(X_train, train_labels, transforms_dict['train'])\n",
    "    valid_dataset = TrainDataset(X_valid, valid_labels, transforms_dict['train'])\n",
    "\n",
    "    train_loader = DataLoader(train_dataset, batch_size=model_params['batch_size'], shuffle=True)\n",
    "    valid_loader = DataLoader(valid_dataset, batch_size=model_params['batch_size'], shuffle=False)\n",
    "    \n",
    "    if USE_GPU:\n",
    "        model = Classifier().cuda()\n",
    "        criterion = nn.CrossEntropyLoss().cuda()\n",
    "    else:\n",
    "        model = Classifier()\n",
    "        criterion = nn.CrossEntropyLoss()\n",
    "    \n",
    "    optimizer = Adam(params=model.parameters(), lr=model_params['learning_rate'], amsgrad=False)\n",
    "    scheduler = CosineAnnealingLR(optimizer, T_max=model_params['t_max'], eta_min=model_params['eta_min'])\n",
    "    \n",
    "    mb = master_bar(range(model_params['num_epochs']))\n",
    "    \n",
    "    for epoch in mb:\n",
    "        start_time = time.time()\n",
    "        model.train()\n",
    "        avg_loss = 0.\n",
    "\n",
    "        for x_batch, y_batch in progress_bar(train_loader, parent=mb):\n",
    "            if USE_GPU:\n",
    "                preds = model(x_batch.cuda())\n",
    "                loss = criterion(preds, y_batch.cuda())\n",
    "            else:\n",
    "                preds = model(x_batch)\n",
    "                loss = criterion(preds, y_batch)\n",
    "            \n",
    "            optimizer.zero_grad()\n",
    "            loss.backward()\n",
    "            optimizer.step()\n",
    "\n",
    "            avg_loss += loss.item() / len(train_loader)\n",
    "\n",
    "        model.eval()\n",
    "        valid_preds = np.zeros((len(X_valid), 10))\n",
    "        avg_val_loss = 0.\n",
    "\n",
    "        for i, (x_batch, y_batch) in enumerate(valid_loader):\n",
    "            if USE_GPU:\n",
    "                preds = model(x_batch.cuda()).detach()\n",
    "                loss = criterion(preds, y_batch.cuda())\n",
    "            else:\n",
    "                preds = model(x_batch).detach()\n",
    "                loss = criterion(preds, y_batch)\n",
    "\n",
    "            preds = torch.sigmoid(preds)\n",
    "            valid_preds[i * model_params['batch_size']: (i+1) * model_params['batch_size']] = preds.cpu().numpy()\n",
    "\n",
    "            avg_val_loss += loss.item() / len(valid_loader)\n",
    "            \n",
    "        # valid_preds_tensor = torch.from_numpy(valid_preds)\n",
    "        # y_valid_tensor = torch.from_numpy(y_valid).type_as(valid_preds_tensor)\n",
    "        # epoch_val_loss = criterion(valid_preds_tensor, y_valid)\n",
    "        accuracy = sum(1 for x,y in zip(valid_labels, valid_preds.argmax(axis=1).tolist()) if x == y) / len(valid_labels)    \n",
    "            \n",
    "        scheduler.step()\n",
    "        \n",
    "        elapsed = time.time() - start_time\n",
    "        mb.write(f'Epoch {epoch+1} - avg_train_loss: {avg_loss:.4f}  avg_val_loss: {avg_val_loss:.4f}  accuracy: {accuracy:.4f}  time: {elapsed:.0f}s')\n",
    "            \n",
    "        if epoch == 0:\n",
    "            best_accuracy = accuracy\n",
    "            torch.save(model.state_dict(), home_directory + 'models/' + sub_dir + '_best_model.pt')\n",
    "            best_preds = valid_preds.argmax(axis=1).tolist()\n",
    "        else:\n",
    "            if accuracy > best_accuracy:\n",
    "                best_accuracy = accuracy\n",
    "                torch.save(model.state_dict(), home_directory + 'models/' + sub_dir + '_best_model.pt')\n",
    "                best_preds = valid_preds.argmax(axis=1).tolist()\n",
    "    \n",
    "    print(sub_dir + ' summary')\n",
    "    print('------------------------')\n",
    "    print(classification_report(np.argmax(valid_preds, axis=1), valid_labels))\n",
    "    print('------------------------')\n",
    "    print('best accuracy: ' + str(best_accuracy))\n",
    "    print('------------------------')\n",
    "    print('\\n')\n",
    "\n",
    "    oof_labels.append(valid_labels)\n",
    "    oof_preds.append(best_preds)\n",
    "\n",
    "\n",
    "oof_labels_flat = [item for sublist in oof_labels for item in sublist]\n",
    "oof_preds_flat = [item for sublist in oof_preds for item in sublist]\n",
    "\n",
    "oof_accuracy = sum(1 for x, y in zip(oof_labels_flat, oof_preds_flat) if x == y) / len(oof_labels_flat)\n",
    "\n",
    "print('------------------------')\n",
    "print('out-of-fold prediction accuracy: ' + str(oof_accuracy))\n"
   ]
  },
  {
   "cell_type": "code",
   "execution_count": null,
   "metadata": {
    "colab": {
     "base_uri": "https://localhost:8080/",
     "height": 51
    },
    "colab_type": "code",
    "executionInfo": {
     "elapsed": 13879560,
     "status": "ok",
     "timestamp": 1599528905625,
     "user": {
      "displayName": "Scott Duda",
      "photoUrl": "https://lh3.googleusercontent.com/a-/AOh14GjRn5vlsP2VP-TM4jPt1ZKBGq1MJCJ2yl5F4D0H=s64",
      "userId": "07461941358185247463"
     },
     "user_tz": 240
    },
    "id": "kl9c3sJu2x7d",
    "outputId": "a27791d4-3e90-425f-f492-44900fae4203"
   },
   "outputs": [
    {
     "name": "stdout",
     "output_type": "stream",
     "text": [
      "Mean Out-of-Fold Prediction Accuracy: 0.7883348589216583\n",
      "Out-of-Fold Prediction Accuracy Standard Deviation: 0.04530839550678267\n"
     ]
    }
   ],
   "source": [
    "oof_accuracy = []\n",
    "for i in range(len(oof_preds)):\n",
    "    preds = oof_preds[i]\n",
    "    labels = oof_labels[i]\n",
    "    oof_accuracy.append(sum(1 for x, y in zip(labels, preds) if x == y) / len(labels))\n",
    "\n",
    "print('Mean Out-of-Fold Prediction Accuracy: ' + str(np.mean(oof_accuracy)))\n",
    "print('Out-of-Fold Prediction Accuracy Standard Deviation: ' + str(np.std(oof_accuracy)))"
   ]
  },
  {
   "cell_type": "code",
   "execution_count": null,
   "metadata": {
    "colab": {
     "base_uri": "https://localhost:8080/",
     "height": 390
    },
    "colab_type": "code",
    "executionInfo": {
     "elapsed": 496,
     "status": "ok",
     "timestamp": 1599529284608,
     "user": {
      "displayName": "Scott Duda",
      "photoUrl": "https://lh3.googleusercontent.com/a-/AOh14GjRn5vlsP2VP-TM4jPt1ZKBGq1MJCJ2yl5F4D0H=s64",
      "userId": "07461941358185247463"
     },
     "user_tz": 240
    },
    "id": "jqLcdpXS4KGN",
    "outputId": "d9ce238e-7c49-4229-9634-7e253ec3e204"
   },
   "outputs": [
    {
     "data": {
      "image/png": "[encoded data removed]",
      "text/plain": [
       "<Figure size 1296x432 with 1 Axes>"
      ]
     },
     "metadata": {
      "needs_background": "light",
      "tags": []
     },
     "output_type": "display_data"
    }
   ],
   "source": [
    "plt.figure(figsize=(18, 6))\n",
    "sns.boxplot(oof_accuracy)\n",
    "plt.title('UrbanSound8K Out-of-Fold Prediction Accuracy')\n",
    "plt.savefig(home_directory + 'images/oof_pred_acc.png')\n",
    "plt.show()"
   ]
  }
 ],
 "metadata": {
  "accelerator": "GPU",
  "colab": {
   "collapsed_sections": [],
   "name": "urban-sound-classification.ipynb",
   "provenance": []
  },
  "kernelspec": {
   "display_name": "Python 3",
   "language": "python",
   "name": "python3"
  },
  "language_info": {
   "codemirror_mode": {
    "name": "ipython",
    "version": 3
   },
   "file_extension": ".py",
   "mimetype": "text/x-python",
   "name": "python",
   "nbconvert_exporter": "python",
   "pygments_lexer": "ipython3",
   "version": "3.7.4"
  }
 },
 "nbformat": 4,
 "nbformat_minor": 1
}
